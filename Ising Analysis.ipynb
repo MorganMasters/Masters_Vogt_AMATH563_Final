{
 "cells": [
  {
   "cell_type": "code",
   "execution_count": 143,
   "metadata": {},
   "outputs": [],
   "source": [
    "import pickle\n",
    "import numpy as np\n",
    "from tqdm import tqdm\n",
    "import matplotlib.pyplot as plt\n",
    "from mpl_toolkits import mplot3d\n",
    "# import project_MC_Ising_STRidge as sRid"
   ]
  },
  {
   "cell_type": "code",
   "execution_count": 2,
   "metadata": {},
   "outputs": [],
   "source": [
    "tsteps = 1024"
   ]
  },
  {
   "cell_type": "code",
   "execution_count": 3,
   "metadata": {},
   "outputs": [],
   "source": [
    "file_path = \"C:\\\\Users\\\\Ryan\\\\Documents\\\\Github\\\\Masters_Vogt_AMATH563_Final\\\\Generated\\\\\"\n",
    "save_path = \"C:\\\\Users\\\\Ryan\\\\Documents\\\\Github\\\\Masters_Vogt_AMATH563_Final\\\\Processed\\\\\""
   ]
  },
  {
   "cell_type": "markdown",
   "metadata": {},
   "source": [
    "# Import Data"
   ]
  },
  {
   "cell_type": "code",
   "execution_count": null,
   "metadata": {},
   "outputs": [],
   "source": [
    "def load_config(file_path, grid_size, sample, broad = False):\n",
    "    if broad:\n",
    "        file = open(file_path+\"Ising_broad_\"+str(grid_size)+\"_\"+str(sample)+\".pickle\", 'rb')\n",
    "    else:\n",
    "        file = open(file_path+\"Ising\"+str(grid_size)+\"_\"+str(sample)+\".pickle\", 'rb')\n",
    "    return pickle.load(file)"
   ]
  },
  {
   "cell_type": "markdown",
   "metadata": {},
   "source": [
    "# Calculate SVDs"
   ]
  },
  {
   "cell_type": "code",
   "execution_count": null,
   "metadata": {},
   "outputs": [],
   "source": [
    "def calc_svds(file_path, size, broad=False):\n",
    "    sing_list = []\n",
    "    u_list = []\n",
    "    v_list = []\n",
    "    temps = load_config(file_path, size, 1, broad = broad)['Temperature']\n",
    "\n",
    "    for i in range(10):\n",
    "        sings = np.zeros([size*size, 0])\n",
    "        us = []\n",
    "        vs = []\n",
    "        sample = load_config(file_path, size, i+1, broad)\n",
    "        for data in tqdm(sample['State']):\n",
    "            u ,s,v = np.linalg.svd(data)\n",
    "            sings = np.append(sings, np.expand_dims(s,-1), axis = 1)\n",
    "            us.append(u)\n",
    "            vs.append(v)\n",
    "        sing_list.append(sings)\n",
    "        u_list.append(us)\n",
    "        v_list.append(vs)\n",
    "    return u_list, sing_list, v_list, temps"
   ]
  },
  {
   "cell_type": "code",
   "execution_count": null,
   "metadata": {
    "scrolled": true
   },
   "outputs": [],
   "source": [
    "fig = plt.figure(figsize =(15,10))\n",
    "ax1 = plt.subplot(121, projection = '3d')\n",
    "x = temps\n",
    "y = np.linspace(1, tsteps, tsteps)\n",
    "X,Y = np.meshgrid(x,y)\n",
    "z1 = np.array(u_list[0])[:,0, :]\n",
    "ax1.plot_surface(X, Y, z1.T, edgecolor='none', cmap='viridis')\n",
    "plt.xlabel('Temperature')\n",
    "plt.ylabel('Time')\n",
    "plt.title('Mode 1')\n",
    "ax1.view_init(30,45)\n",
    "\n",
    "# ax2 = plt.axes(projection = '3d')\n",
    "ax2 = plt.subplot(122, projection = '3d')\n",
    "z2 = np.array(u_list[0])[:,1, :]\n",
    "ax2.plot_surface(X, Y, z2.T, edgecolor='none', cmap='viridis')\n",
    "plt.xlabel('Temperature')\n",
    "plt.ylabel('Time')\n",
    "plt.title('Mode 2')\n",
    "ax2.view_init(30,45)"
   ]
  },
  {
   "cell_type": "markdown",
   "metadata": {},
   "source": [
    "## Generate average SV matrices"
   ]
  },
  {
   "cell_type": "code",
   "execution_count": null,
   "metadata": {},
   "outputs": [],
   "source": [
    "broad = True\n",
    "size = 8"
   ]
  },
  {
   "cell_type": "code",
   "execution_count": null,
   "metadata": {},
   "outputs": [],
   "source": [
    "def save_avgs(file_path, save_path, size, broad=True):\n",
    "    u_list, sing_list, v_list, temps = calc_svds(file_path, size, broad)\n",
    "    smsum = np.zeros([size*size, len(temps)])\n",
    "    for sm in sing_list:\n",
    "        smsum = smsum + sm\n",
    "    smsum = smsum/len(sing_list)\n",
    "    np.save(open(save_path+ 'SVavg_'+str(size), 'wb'), smsum.T)    "
   ]
  },
  {
   "cell_type": "code",
   "execution_count": null,
   "metadata": {},
   "outputs": [],
   "source": [
    "save_avgs(file_path, save_path, size, broad)"
   ]
  },
  {
   "cell_type": "code",
   "execution_count": null,
   "metadata": {},
   "outputs": [],
   "source": [
    "fig = plt.figure(figsize =(12,12))\n",
    "ax = plt.axes(projection = '3d')\n",
    "x = temps[1:-1]\n",
    "y = np.linspace(1, size**2, size**2)\n",
    "X,Y = np.meshgrid(x,y)\n",
    "ax.plot_surface(X, Y, fder.T, edgecolor='none', cmap='viridis', shade = True)\n",
    "plt.xlabel('Temperature')\n",
    "plt.ylabel('Singular value number')\n",
    "ax.view_init(10,75)"
   ]
  },
  {
   "cell_type": "markdown",
   "metadata": {},
   "source": [
    "## Build Library"
   ]
  },
  {
   "cell_type": "code",
   "execution_count": 4,
   "metadata": {},
   "outputs": [],
   "source": [
    "data = np.load(save_path+'SVavg_16').astype(np.float64)\n",
    "temps = np.load(save_path+'broad_temps.npy')"
   ]
  },
  {
   "cell_type": "code",
   "execution_count": 5,
   "metadata": {},
   "outputs": [],
   "source": [
    "from scipy.sparse import diags\n",
    "def calc_dyn(data, h):\n",
    "    length = data.shape[0] \n",
    "    A = 1 / (2 * h) * diags([-1, 0, 1], [-1, 0, 1], shape=(length, length)).todense()\n",
    "    dynamics = np.matmul(A, data[:,:])[1:-1, :] # neglect first and last entry per temperature axis to avoid boundary conflicts with cetnral differencing\n",
    "    return dynamics"
   ]
  },
  {
   "cell_type": "code",
   "execution_count": 121,
   "metadata": {},
   "outputs": [
    {
     "data": {
      "text/plain": [
       "(198, 255)"
      ]
     },
     "execution_count": 121,
     "metadata": {},
     "output_type": "execute_result"
    }
   ],
   "source": [
    "dT = temps[1]-temps[0]\n",
    "dyn_test = calc_dyn(data, dT)\n",
    "dyn_test.shape\n",
    "dyn_test_c = dyn_test[:,1:]\n",
    "dyn_test_c.shape"
   ]
  },
  {
   "cell_type": "code",
   "execution_count": 122,
   "metadata": {},
   "outputs": [],
   "source": [
    "flat_dyn = np.ravel(dyn_test_c)"
   ]
  },
  {
   "cell_type": "code",
   "execution_count": 158,
   "metadata": {},
   "outputs": [],
   "source": [
    "def build_library(dyn, temps, degree=3):\n",
    "    t = [np.array(temps[1:-1])]\n",
    "    ts = np.repeat(t, np.shape(dyn)[1], axis = 0).T\n",
    "    dyn = np.ravel(dyn)\n",
    "    ts = ts.flatten()\n",
    "    library = np.zeros([len(ts), 0])\n",
    "    key_list = np.zeros((0,2))\n",
    "    for i in range(degree+1):\n",
    "        for j in range(i+1):\n",
    "            library = np.append(library, np.expand_dims((dyn**j)*(ts**(i-j)), -1), axis = 1)\n",
    "            key_list= np.append(key_list, [[j, i-j]], axis=0)\n",
    "    return library, key_list"
   ]
  },
  {
   "cell_type": "code",
   "execution_count": 160,
   "metadata": {},
   "outputs": [],
   "source": [
    "test_lib, keys= build_library(dyn_test_c, temps, 6)\n",
    "test_lib = test_lib.astype(np.float64)\n",
    "norm_lib= test_lib / test_lib.sum(axis=0, keepdims = True)"
   ]
  },
  {
   "cell_type": "code",
   "execution_count": 139,
   "metadata": {},
   "outputs": [],
   "source": [
    "from sklearn import linear_model\n",
    "from sklearn.model_selection import train_test_split\n",
    "\n",
    "def STRidge(library, dynamics, alpha, tol, iters=10): \n",
    "#     if iters % 5 ==0:\n",
    "#         print('Iters= '+str(iters))\n",
    "    lib_ind = list(range(library.shape[1])) #Track index of functions kept\n",
    "    thresh = tol * np.ones(library.shape[0])\n",
    "    reg = linear_model.Ridge(alpha=alpha)  # regress\n",
    "    mod = reg.fit(library,dynamics)\n",
    "    xi = mod.coef_\n",
    "    big_coefs = np.greater(np.abs(xi), tol)\n",
    "    xi[~big_coefs] = 0\n",
    "    if iters > 0 and len(xi[big_coefs])>0 :\n",
    "        xi[big_coefs] = STRidge(library[:,big_coefs], dynamics, alpha, tol, iters-1)\n",
    "    return xi\n",
    "        \n",
    "#         for j in range(len(lib_ind)):\n",
    "#             print(\"j = \"+str(j))\n",
    "#             if xi[j] < tol:  # threshold out small coefficients\n",
    "#                 xi[j] = 0\n",
    "\n",
    "#     return xi, lib_ind, library\n",
    "\n",
    "\n",
    "def PDE_Find(library, dynamics, d_tol, tol_iters, ridge_iters=10):\n",
    "  \n",
    "    lib_train, lib_test, dynam_train, dynam_test = train_test_split(library, dynamics, test_size=1/5)\n",
    "    xi_best = np.zeros(lib_test.shape[1])\n",
    "    alpha = 1e-3 * np.linalg.cond(library)\n",
    "    \n",
    "    error_best = np.linalg.norm(np.matmul(lib_test, xi_best) - dynam_test, 2)**2 + alpha*np.linalg.norm(xi_best,0)\n",
    "    tol = d_tol\n",
    "    \n",
    "\n",
    "    for iters in range(tol_iters):\n",
    "        xi = STRidge(library=lib_train, dynamics=dynam_train, alpha=alpha, tol=tol, iters=ridge_iters)\n",
    "        error = np.linalg.norm(np.matmul(lib_test, xi) - dynam_test)**2 + alpha * np.linalg.norm(xi,0)\n",
    "        if iters % 25 == 0:\n",
    "            print('Error= ' +str(error)+', Iteration '+str(iters))\n",
    "        if error <= error:\n",
    "            xi_best = xi\n",
    "            error_best = error\n",
    "            tol += d_tol\n",
    "        else:\n",
    "            tol = max([0, tol - 2 * d_tol])\n",
    "            d_tol = 2 * d_tol / (tol_iters - iter)\n",
    "            tol += d_tol\n",
    "    return xi_best, error_best\n"
   ]
  },
  {
   "cell_type": "code",
   "execution_count": 140,
   "metadata": {},
   "outputs": [
    {
     "name": "stdout",
     "output_type": "stream",
     "text": [
      "Error= 9337624.79463918, Iteration 0\n",
      "Error= 9300056.91252411, Iteration 25\n",
      "Error= 9294592.78462191, Iteration 50\n",
      "Error= 9288973.364685476, Iteration 75\n",
      "Error= 9286159.830623273, Iteration 100\n",
      "Error= 9283898.386763941, Iteration 125\n",
      "Error= 9281757.436663263, Iteration 150\n",
      "Error= 9281757.436663263, Iteration 175\n"
     ]
    }
   ],
   "source": [
    "xi_best, error_best = PDE_Find(norm_lib, flat_dyn, .001, 200, 30)"
   ]
  },
  {
   "cell_type": "code",
   "execution_count": 141,
   "metadata": {},
   "outputs": [
    {
     "data": {
      "text/plain": [
       "[<matplotlib.lines.Line2D at 0x275801c6eb8>]"
      ]
     },
     "execution_count": 141,
     "metadata": {},
     "output_type": "execute_result"
    },
    {
     "data": {
      "image/png": "[encoded data removed]",
      "text/plain": [
       "<Figure size 432x288 with 1 Axes>"
      ]
     },
     "metadata": {
      "needs_background": "light"
     },
     "output_type": "display_data"
    }
   ],
   "source": [
    "plt.plot(xi_best)"
   ]
  },
  {
   "cell_type": "code",
   "execution_count": 142,
   "metadata": {},
   "outputs": [
    {
     "data": {
      "text/plain": [
       "array([0.        , 0.        , 0.        , 0.        , 0.        ,\n",
       "       0.        , 0.        , 0.        , 0.        , 0.46629645,\n",
       "       0.        , 0.        , 0.        , 0.52805886, 0.        ,\n",
       "       0.        , 0.        , 0.        , 0.53141144, 0.        ,\n",
       "       0.        , 0.        , 0.        , 0.        , 0.45071783,\n",
       "       0.        , 0.        , 0.        ])"
      ]
     },
     "execution_count": 142,
     "metadata": {},
     "output_type": "execute_result"
    }
   ],
   "source": [
    "xi_best"
   ]
  },
  {
   "cell_type": "code",
   "execution_count": 110,
   "metadata": {},
   "outputs": [
    {
     "data": {
      "text/plain": [
       "(1, 15)"
      ]
     },
     "execution_count": 110,
     "metadata": {},
     "output_type": "execute_result"
    }
   ],
   "source": [
    "test_lib.sum(axis=0, keepdims = True).shape"
   ]
  },
  {
   "cell_type": "code",
   "execution_count": 111,
   "metadata": {},
   "outputs": [],
   "source": [
    "norm_lib= test_lib / test_lib.sum(axis=0, keepdims = True)"
   ]
  },
  {
   "cell_type": "code",
   "execution_count": 112,
   "metadata": {},
   "outputs": [
    {
     "data": {
      "text/plain": [
       "array([[ 1.97285354e-05,  5.81222985e-07, -7.58739250e-05, ...,\n",
       "         2.20591023e-08,  1.32537256e-07,  1.05768636e-08],\n",
       "       [ 1.97285354e-05,  5.81222985e-07,  3.79888925e-04, ...,\n",
       "         5.52988373e-07, -1.66352841e-05,  6.64680952e-06],\n",
       "       [ 1.97285354e-05,  5.81222985e-07,  6.25966677e-05, ...,\n",
       "         1.50143026e-08, -7.44241642e-08,  4.89994900e-09],\n",
       "       ...,\n",
       "       [ 1.97285354e-05,  3.88758477e-05,  3.02469489e-06, ...,\n",
       "         1.56833944e-07, -5.61619440e-10,  2.67124051e-14],\n",
       "       [ 1.97285354e-05,  3.88758477e-05,  3.86146682e-06, ...,\n",
       "         2.55612173e-07, -1.16856893e-09,  7.09571117e-14],\n",
       "       [ 1.97285354e-05,  3.88758477e-05,  1.10808232e-05, ...,\n",
       "         2.10484911e-06, -2.76129933e-08,  4.81143696e-12]])"
      ]
     },
     "execution_count": 112,
     "metadata": {},
     "output_type": "execute_result"
    }
   ],
   "source": []
  },
  {
   "cell_type": "code",
   "execution_count": null,
   "metadata": {},
   "outputs": [],
   "source": [
    "bar_width = 0.5\n",
    "for row in keys\n",
    "labels, c = keys_list[i], coef_list[i]\n",
    "norm_c = c / np.sum(c)\n",
    "x_pos = np.arange(len(labels))\n",
    "\n",
    "fig = plt.figure(figsize=(9, 8))\n",
    "ax = fig.add_subplot(111)\n",
    "plt.bar(labels, norm_c, bar_width, color='k', align='center')\n",
    "plt.ylabel(r'LR Coefficient magnitude', fontsize=12)\n",
    "plt.xlabel(r'Library functions', fontsize=12)\n",
    "\n",
    "ax.axhline(y=0, color='k', lw=2)\n",
    "plt.xticks(rotation='vertical')\n",
    "\n",
    "# axis and tick params\n",
    "ax.tick_params(direction='out', length=6, width=4, colors='k',\n",
    "               grid_color='k', grid_alpha=0.5, labelsize=14)\n",
    "plt.xticks(x_pos, labels, fontsize=7)\n",
    "ax.spines['top'].set_visible(False)\n",
    "ax.spines['right'].set_visible(False)\n",
    "ax.spines['bottom'].set_linewidth(4)\n",
    "ax.spines['left'].set_linewidth(4)"
   ]
  },
  {
   "cell_type": "code",
   "execution_count": 167,
   "metadata": {},
   "outputs": [
    {
     "name": "stdout",
     "output_type": "stream",
     "text": [
      "[0. 0.]\n",
      "[0. 1.]\n",
      "[1. 0.]\n",
      "[0. 2.]\n",
      "[1. 1.]\n",
      "[2. 0.]\n",
      "[0. 3.]\n",
      "[1. 2.]\n",
      "[2. 1.]\n",
      "[3. 0.]\n",
      "[0. 4.]\n",
      "[1. 3.]\n",
      "[2. 2.]\n",
      "[3. 1.]\n",
      "[4. 0.]\n",
      "[0. 5.]\n",
      "[1. 4.]\n",
      "[2. 3.]\n",
      "[3. 2.]\n",
      "[4. 1.]\n",
      "[5. 0.]\n",
      "[0. 6.]\n",
      "[1. 5.]\n",
      "[2. 4.]\n",
      "[3. 3.]\n",
      "[4. 2.]\n",
      "[5. 1.]\n",
      "[6. 0.]\n"
     ]
    }
   ],
   "source": [
    "for row in keys:\n",
    "    print(row)"
   ]
  },
  {
   "cell_type": "code",
   "execution_count": null,
   "metadata": {},
   "outputs": [],
   "source": []
  }
 ],
 "metadata": {
  "kernelspec": {
   "display_name": "Python 3",
   "language": "python",
   "name": "python3"
  },
  "language_info": {
   "codemirror_mode": {
    "name": "ipython",
    "version": 3
   },
   "file_extension": ".py",
   "mimetype": "text/x-python",
   "name": "python",
   "nbconvert_exporter": "python",
   "pygments_lexer": "ipython3",
   "version": "3.6.8"
  }
 },
 "nbformat": 4,
 "nbformat_minor": 2
}
